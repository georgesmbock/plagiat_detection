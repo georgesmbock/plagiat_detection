{
 "cells": [
  {
   "cell_type": "code",
   "execution_count": 5,
   "id": "0b039b82-f1bb-4fc9-87ba-2361cf8a7a3d",
   "metadata": {},
   "outputs": [],
   "source": [
    "import numpy as np\n",
    "from gensim.models import FastText\n",
    "from sklearn.metrics.pairwise import cosine_similarity"
   ]
  },
  {
   "cell_type": "code",
   "execution_count": 7,
   "id": "b1f43215-e776-4e76-ae33-b2df1d31b189",
   "metadata": {},
   "outputs": [],
   "source": [
    "documents = [\n",
    "    [\"le\", \"chat\", \"noir\", \"dort\", \"sur\", \"le\", \"canapé\"],\n",
    "    [\"un\", \"chien\", \"aboie\", \"dans\", \"le\", \"jardin\"],\n",
    "    [\"le\", \"soleil\", \"brille\", \"dans\", \"le\", \"ciel\"],\n",
    "    [\"un\", \"chat\", \"noir\", \"est\", \"allongé\", \"sur\", \"le\", \"divan\"]\n",
    "]"
   ]
  },
  {
   "cell_type": "code",
   "execution_count": 8,
   "id": "99fe872a-6632-49ca-96b9-3ed072b2db0f",
   "metadata": {},
   "outputs": [],
   "source": [
    "# Entraînement du modèle FastText\n",
    "model_fasttext = FastText(documents, vector_size=100, window=3, min_count=1)\n"
   ]
  },
  {
   "cell_type": "code",
   "execution_count": 9,
   "id": "f6165112-248d-4142-b205-6e6b811562db",
   "metadata": {},
   "outputs": [],
   "source": [
    "# Fonction pour encoder un document\n",
    "def get_embedding(document):\n",
    "    vectors = [model_fasttext.wv[word] for word in document if word in model_fasttext.wv]\n",
    "    return np.mean(vectors, axis=0) if vectors else np.zeros(100)\n",
    "\n",
    "# Stocker les embeddings des documents\n",
    "doc_embeddings = np.array([get_embedding(doc) for doc in documents])\n",
    "\n",
    "# Fonction de détection de plagiat\n",
    "def detect_plagiarism(submitted_text):\n",
    "    submitted_embedding = get_embedding(submitted_text)\n",
    "    similarities = cosine_similarity([submitted_embedding], doc_embeddings)[0]\n",
    "    max_similarity = max(similarities)\n",
    "    \n",
    "    print(f\"\\nDétection de plagiat : Score de similarité max = {max_similarity:.2f}\")\n",
    "    if max_similarity > 0.8:\n",
    "        print(\"Plagiat détecté !\")\n",
    "    else:\n",
    "        print(\"Aucun plagiat détecté.\")"
   ]
  },
  {
   "cell_type": "code",
   "execution_count": 10,
   "id": "1b1aefad-bd7f-4326-9372-6e44b55b49ea",
   "metadata": {},
   "outputs": [
    {
     "name": "stdout",
     "output_type": "stream",
     "text": [
      "\n",
      "Détection de plagiat : Score de similarité max = 0.65\n",
      "Aucun plagiat détecté.\n"
     ]
    }
   ],
   "source": [
    "# Exemple d'utilisation\n",
    "submitted_text = [\"un\", \"chat\", \"noir\", \"se\", \"repose\", \"sur\", \"le\", \"canapé\"]\n",
    "detect_plagiarism(submitted_text)"
   ]
  },
  {
   "cell_type": "code",
   "execution_count": null,
   "id": "0b2764b1-bb94-4913-9b50-4baecd915a6b",
   "metadata": {},
   "outputs": [],
   "source": []
  }
 ],
 "metadata": {
  "kernelspec": {
   "display_name": "Python 3 (ipykernel)",
   "language": "python",
   "name": "python3"
  },
  "language_info": {
   "codemirror_mode": {
    "name": "ipython",
    "version": 3
   },
   "file_extension": ".py",
   "mimetype": "text/x-python",
   "name": "python",
   "nbconvert_exporter": "python",
   "pygments_lexer": "ipython3",
   "version": "3.10.12"
  }
 },
 "nbformat": 4,
 "nbformat_minor": 5
}
